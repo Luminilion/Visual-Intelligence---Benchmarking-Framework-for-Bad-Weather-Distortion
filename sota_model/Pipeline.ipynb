{
 "cells": [
  {
   "cell_type": "markdown",
   "id": "56544ec6-ac9b-4ea6-8e7e-56d2930402ac",
   "metadata": {
    "tags": []
   },
   "source": [
    "# Segmentation tasks\n",
    "\n",
    "The following notebook performs the semantic segmentation task on 4 sets of images:\n",
    "- raw images\n",
    "- noisy augmented images\n",
    "- denoised augmented images\n",
    "- denoised raw images\n",
    "\n",
    "It will make use of a list of models and compute metrics on them."
   ]
  },
  {
   "cell_type": "code",
   "execution_count": 23,
   "id": "6362c5cc-4baa-485a-8855-6f69532af263",
   "metadata": {},
   "outputs": [
    {
     "name": "stdout",
     "output_type": "stream",
     "text": [
      "The autoreload extension is already loaded. To reload it, use:\n",
      "  %reload_ext autoreload\n"
     ]
    }
   ],
   "source": [
    "%load_ext autoreload\n",
    "%autoreload 2\n",
    "\n",
    "from models_loading import *\n",
    "from data_loading import * \n",
    "from tasks_loading import *\n",
    "from metrics_loading import *\n",
    "\n",
    "from utils import *\n",
    "\n",
    "# Used for tests purpose\n",
    "import torch"
   ]
  },
  {
   "cell_type": "markdown",
   "id": "fcc1a0da-03fa-4843-90cc-14c130abcd83",
   "metadata": {},
   "source": [
    "## Models"
   ]
  },
  {
   "cell_type": "markdown",
   "id": "57687d16-d98a-4938-8fb0-3f7683151277",
   "metadata": {},
   "source": [
    "### Models loading"
   ]
  },
  {
   "cell_type": "code",
   "execution_count": 2,
   "id": "786af06e-bb41-4aa9-b009-ed3a9c82cf28",
   "metadata": {},
   "outputs": [
    {
     "name": "stdout",
     "output_type": "stream",
     "text": [
      "Available models aliases:\n",
      "  SINet\n",
      "  UNet\n",
      "  HRNet\n"
     ]
    }
   ],
   "source": [
    "load_model(\"\", list_available=True)\n",
    "\n",
    "# sinet = load_model(\"SINet\").eval()\n",
    "unet = load_model(\"UNet\").eval()"
   ]
  },
  {
   "cell_type": "code",
   "execution_count": 3,
   "id": "3904bea9-adc4-4dda-9530-fc54d7002e2a",
   "metadata": {},
   "outputs": [],
   "source": [
    "# Fake data\n",
    "x = torch.randn(1, 3, 1024, 2048)"
   ]
  },
  {
   "cell_type": "code",
   "execution_count": 4,
   "id": "fc301dcf-38f4-46d8-870e-2a5cbe06f421",
   "metadata": {},
   "outputs": [],
   "source": [
    "# y = sinet(x)\n",
    "# print(y.shape)\n",
    "# y = unet(x)\n",
    "# print(y.shape)"
   ]
  },
  {
   "cell_type": "markdown",
   "id": "7fc40dcc-2188-468d-847c-9b8eaa4a8a60",
   "metadata": {},
   "source": [
    "### Data Loading"
   ]
  },
  {
   "cell_type": "code",
   "execution_count": 5,
   "id": "2a2b38e3-ddc6-411a-aae9-0f959d0b3754",
   "metadata": {},
   "outputs": [],
   "source": [
    "# Set here the directories locations to the data for the evaluation task\n",
    "\n",
    "cityscapes_dir = 'HRNet/data/cityscapes'\n",
    "denoized_dir = '../candidate_model_predictions'\n",
    "# cityscapes_distorted_dir = 'HRNet/data/cityscapes'"
   ]
  },
  {
   "cell_type": "code",
   "execution_count": 6,
   "id": "8a98ca62-08c5-4a68-a051-d71c605595a9",
   "metadata": {},
   "outputs": [
    {
     "name": "stdout",
     "output_type": "stream",
     "text": [
      "Available dataloaders aliases:\n",
      "  cityscapes\n"
     ]
    }
   ],
   "source": [
    "load_data(\"\", list_available=True)\n",
    "\n",
    "# cs = load_data(\"cityscapes\", location=cityscapes_dir)"
   ]
  },
  {
   "cell_type": "markdown",
   "id": "3f7f694f-6d57-49e8-92e0-a88f891961dc",
   "metadata": {},
   "source": [
    "### Evaluation Task"
   ]
  },
  {
   "cell_type": "code",
   "execution_count": 7,
   "id": "34b26678-8fed-4152-8e3c-14e745e90a16",
   "metadata": {},
   "outputs": [
    {
     "name": "stdout",
     "output_type": "stream",
     "text": [
      "Available tasks aliases:\n",
      "  semantic\n"
     ]
    }
   ],
   "source": [
    "load_tasks(\"\", list_available=True)\n",
    "\n",
    "semantic_task = load_tasks(\"semantic\")\n",
    "semantic_unet = semantic_task(unet)"
   ]
  },
  {
   "cell_type": "code",
   "execution_count": 8,
   "id": "66839221-e96d-4a98-974b-ae59a70ac6c7",
   "metadata": {},
   "outputs": [
    {
     "name": "stdout",
     "output_type": "stream",
     "text": [
      "Using 19 classes.\n",
      "Using 19 classes.\n"
     ]
    },
    {
     "data": {
      "text/plain": [
       "(torch.Size([1, 19, 1024, 2048]), (1, 1024, 2048), (1, 3, 1024, 2048))"
      ]
     },
     "execution_count": 8,
     "metadata": {},
     "output_type": "execute_result"
    }
   ],
   "source": [
    "# y = semantic_unet(x)\n",
    "y, colored = semantic_unet(x, get_colored=True)\n",
    "y, classified = semantic_unet(x, get_classification=True)\n",
    "y.shape, classified.shape, colored.shape"
   ]
  },
  {
   "cell_type": "markdown",
   "id": "3526ebcd-c11f-468b-9474-90e3654d9e23",
   "metadata": {},
   "source": [
    "### Metrics"
   ]
  },
  {
   "cell_type": "code",
   "execution_count": 13,
   "id": "a09c1c97-6c9b-4b84-b6b6-533ea497f7f7",
   "metadata": {},
   "outputs": [
    {
     "name": "stdout",
     "output_type": "stream",
     "text": [
      "Available tasks aliases:\n",
      "  iou\n",
      "  dice\n"
     ]
    }
   ],
   "source": [
    "load_metrics(\"\", list_available=True)\n",
    "\n",
    "iou = load_metrics(\"iou\")\n",
    "dice = load_metrics(\"dice\")"
   ]
  },
  {
   "cell_type": "code",
   "execution_count": 14,
   "id": "671f3036-bd22-4a88-a16d-f3dcaf89016f",
   "metadata": {},
   "outputs": [
    {
     "name": "stdout",
     "output_type": "stream",
     "text": [
      "tensor(1.)\n",
      "tensor(1.)\n"
     ]
    }
   ],
   "source": [
    "print(dice(y, torch.from_numpy(classified)))\n",
    "print(iou(y, torch.from_numpy(classified)))"
   ]
  },
  {
   "cell_type": "code",
   "execution_count": 52,
   "id": "f4bd3580-a52b-4760-9122-da79faa4dfe9",
   "metadata": {},
   "outputs": [
    {
     "name": "stdout",
     "output_type": "stream",
     "text": [
      "(1, 1024, 2048, 3)\n",
      "(1, 1024, 2048, 3)\n",
      "output/result_0.png\n"
     ]
    }
   ],
   "source": [
    "store_results(colored, 'output/')"
   ]
  },
  {
   "cell_type": "code",
   "execution_count": null,
   "id": "2a0c12b6-58ec-4346-b9bd-ef74668c0c88",
   "metadata": {},
   "outputs": [],
   "source": []
  }
 ],
 "metadata": {
  "kernelspec": {
   "display_name": "Python 3 (ipykernel)",
   "language": "python",
   "name": "python3"
  },
  "language_info": {
   "codemirror_mode": {
    "name": "ipython",
    "version": 3
   },
   "file_extension": ".py",
   "mimetype": "text/x-python",
   "name": "python",
   "nbconvert_exporter": "python",
   "pygments_lexer": "ipython3",
   "version": "3.9.7"
  }
 },
 "nbformat": 4,
 "nbformat_minor": 5
}
