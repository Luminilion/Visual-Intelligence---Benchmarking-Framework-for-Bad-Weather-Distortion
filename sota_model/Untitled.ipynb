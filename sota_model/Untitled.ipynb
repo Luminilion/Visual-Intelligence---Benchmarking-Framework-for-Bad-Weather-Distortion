{
 "cells": [
  {
   "cell_type": "markdown",
   "id": "56544ec6-ac9b-4ea6-8e7e-56d2930402ac",
   "metadata": {
    "tags": []
   },
   "source": [
    "# Segmentation tasks\n",
    "\n",
    "The following notebook performs the semantic segmentation task on 4 sets of images:\n",
    "- raw images\n",
    "- noisy augmented images\n",
    "- denoised augmented images\n",
    "- denoised raw images\n",
    "\n",
    "It will make use of a list of models and compute metrics on them."
   ]
  },
  {
   "cell_type": "code",
   "execution_count": 1,
   "id": "6362c5cc-4baa-485a-8855-6f69532af263",
   "metadata": {},
   "outputs": [],
   "source": [
    "%load_ext autoreload\n",
    "%autoreload 2\n",
    "\n",
    "from models_loading import *\n",
    "from data_loading import * \n",
    "import torch"
   ]
  },
  {
   "cell_type": "markdown",
   "id": "fcc1a0da-03fa-4843-90cc-14c130abcd83",
   "metadata": {},
   "source": [
    "## Models"
   ]
  },
  {
   "cell_type": "markdown",
   "id": "57687d16-d98a-4938-8fb0-3f7683151277",
   "metadata": {},
   "source": [
    "### Models loading"
   ]
  },
  {
   "cell_type": "code",
   "execution_count": 2,
   "id": "786af06e-bb41-4aa9-b009-ed3a9c82cf28",
   "metadata": {},
   "outputs": [
    {
     "name": "stdout",
     "output_type": "stream",
     "text": [
      "Available models aliases:\n",
      "  SINet\n",
      "  UNet\n",
      "  HRNet\n"
     ]
    }
   ],
   "source": [
    "load_model(\"\", list_available=True)\n",
    "\n",
    "sinet = load_model(\"SINet\").eval()\n",
    "unet = load_model(\"UNet\").eval()"
   ]
  },
  {
   "cell_type": "code",
   "execution_count": 3,
   "id": "3904bea9-adc4-4dda-9530-fc54d7002e2a",
   "metadata": {},
   "outputs": [],
   "source": [
    "# Fake data\n",
    "x = torch.randn(1, 3, 1024, 2048)"
   ]
  },
  {
   "cell_type": "code",
   "execution_count": 4,
   "id": "fc301dcf-38f4-46d8-870e-2a5cbe06f421",
   "metadata": {},
   "outputs": [
    {
     "name": "stdout",
     "output_type": "stream",
     "text": [
      "torch.Size([1, 19, 1024, 2048])\n",
      "torch.Size([1, 19, 1024, 2048])\n"
     ]
    }
   ],
   "source": [
    "y = sinet(x)\n",
    "print(y.shape)\n",
    "y = unet(x)\n",
    "print(y.shape)"
   ]
  },
  {
   "cell_type": "markdown",
   "id": "7fc40dcc-2188-468d-847c-9b8eaa4a8a60",
   "metadata": {},
   "source": [
    "### Data Loading"
   ]
  },
  {
   "cell_type": "code",
   "execution_count": 22,
   "id": "2a2b38e3-ddc6-411a-aae9-0f959d0b3754",
   "metadata": {},
   "outputs": [],
   "source": [
    "# Set here the directories locations to the data for the evaluation task\n",
    "\n",
    "cityscapes_dir = 'HRNet/data/cityscapes'\n",
    "denoized_dir = '../candidate_model_predictions'\n",
    "# cityscapes_distorted_dir = 'HRNet/data/cityscapes'"
   ]
  },
  {
   "cell_type": "code",
   "execution_count": 21,
   "id": "8a98ca62-08c5-4a68-a051-d71c605595a9",
   "metadata": {},
   "outputs": [
    {
     "name": "stdout",
     "output_type": "stream",
     "text": [
      "Available dataloaders aliases:\n",
      "  cityscapes\n"
     ]
    }
   ],
   "source": [
    "load_data(\"\", list_available=True)\n",
    "\n",
    "cs = load_data(\"cityscapes\", location=cityscapes_dir)"
   ]
  },
  {
   "cell_type": "markdown",
   "id": "3f7f694f-6d57-49e8-92e0-a88f891961dc",
   "metadata": {},
   "source": [
    "### Evaluation Task"
   ]
  },
  {
   "cell_type": "code",
   "execution_count": null,
   "id": "34b26678-8fed-4152-8e3c-14e745e90a16",
   "metadata": {},
   "outputs": [],
   "source": [
    "load_tasks"
   ]
  }
 ],
 "metadata": {
  "kernelspec": {
   "display_name": "Python 3 (ipykernel)",
   "language": "python",
   "name": "python3"
  },
  "language_info": {
   "codemirror_mode": {
    "name": "ipython",
    "version": 3
   },
   "file_extension": ".py",
   "mimetype": "text/x-python",
   "name": "python",
   "nbconvert_exporter": "python",
   "pygments_lexer": "ipython3",
   "version": "3.9.7"
  }
 },
 "nbformat": 4,
 "nbformat_minor": 5
}
